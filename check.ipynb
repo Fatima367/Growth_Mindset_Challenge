{
 "cells": [
  {
   "cell_type": "code",
   "execution_count": 1,
   "metadata": {},
   "outputs": [
    {
     "name": "stdout",
     "output_type": "stream",
     "text": [
      "['False',\n",
      " 'None',\n",
      " 'True',\n",
      " 'and',\n",
      " 'as',\n",
      " 'assert',\n",
      " 'async',\n",
      " 'await',\n",
      " 'break',\n",
      " 'class',\n",
      " 'continue',\n",
      " 'def',\n",
      " 'del',\n",
      " 'elif',\n",
      " 'else',\n",
      " 'except',\n",
      " 'finally',\n",
      " 'for',\n",
      " 'from',\n",
      " 'global',\n",
      " 'if',\n",
      " 'import',\n",
      " 'in',\n",
      " 'is',\n",
      " 'lambda',\n",
      " 'nonlocal',\n",
      " 'not',\n",
      " 'or',\n",
      " 'pass',\n",
      " 'raise',\n",
      " 'return',\n",
      " 'try',\n",
      " 'while',\n",
      " 'with',\n",
      " 'yield']\n"
     ]
    }
   ],
   "source": [
    "import keyword\n",
    "import pprint\n",
    "\n",
    "pprint.pprint(keyword.kwlist)"
   ]
  },
  {
   "cell_type": "code",
   "execution_count": 41,
   "metadata": {},
   "outputs": [
    {
     "name": "stdout",
     "output_type": "stream",
     "text": [
      "['Hello,', 'World!,', 'python', 'program']\n",
      "['Hello,', 'World!,', 'python', 'program']\n",
      "['He', '', 'o, Wor', 'd!, python program']\n",
      "Hello, World!, python program\n"
     ]
    }
   ],
   "source": [
    "string: str = \"Hello, World!, python program\"\n",
    "\n",
    "words = string.split()\n",
    "words2 = string.split(\" \")\n",
    "words3 = string.split(\"l\")\n",
    "\n",
    "newstring = \" \"\n",
    "fix= newstring.join(words)\n",
    "\n",
    "print(words)\n",
    "print(words2)\n",
    "print(words3)\n",
    "print(fix)"
   ]
  },
  {
   "cell_type": "code",
   "execution_count": null,
   "metadata": {},
   "outputs": [
    {
     "name": "stdout",
     "output_type": "stream",
     "text": [
      "Pakistan, USA, Canada, France, Japan\n",
      "P, a, k, i, s, t, a, n\n",
      "Apple-Banana-Cherry\n"
     ]
    }
   ],
   "source": [
    "my_string: str = ', ,'\n",
    "joined_string: str = my_string.join(['Pakistan', 'USA', 'Canada', 'France', 'Japan'])\n",
    "print(joined_string)  # Pakistan, USA, Canada, France, Japan\n",
    "\n",
    "joined_string: str = my_string.join('Pakistan') # my_string works as a seprator for each character in the word 'Pakistan', because string is a sequence of caharacter\n",
    "\n",
    "print(joined_string) # P, a, k, i, s, t, a, n\n",
    "\n",
    "print('-'.join(['Apple', 'Banana', 'Cherry'])); # ; The line terminitor"
   ]
  }
 ],
 "metadata": {
  "kernelspec": {
   "display_name": "class1",
   "language": "python",
   "name": "python3"
  },
  "language_info": {
   "codemirror_mode": {
    "name": "ipython",
    "version": 3
   },
   "file_extension": ".py",
   "mimetype": "text/x-python",
   "name": "python",
   "nbconvert_exporter": "python",
   "pygments_lexer": "ipython3",
   "version": "3.12.0"
  }
 },
 "nbformat": 4,
 "nbformat_minor": 2
}
